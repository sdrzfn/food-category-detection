{
  "cells": [
    {
      "cell_type": "code",
      "execution_count": 21,
      "metadata": {
        "id": "x8pFEwpQLJWo"
      },
      "outputs": [],
      "source": [
        "import matplotlib.pyplot as plt\n",
        "import matplotlib.image as img\n",
        "%matplotlib inline\n",
        "import numpy as np\n",
        "from collections import defaultdict\n",
        "import collections\n",
        "import os\n",
        "import pandas as pd # data processing, CSV file I/O (e.g. pd.read_csv)\n",
        "import tensorflow as tf\n",
        "import tensorflow.keras.backend as K\n",
        "from tensorflow.keras import regularizers\n",
        "from tensorflow.keras.models import Sequential, Model\n",
        "from tensorflow.keras.layers import Dense, Dropout, Activation, Flatten, Conv2D\n",
        "from tensorflow.keras.layers import Convolution2D, MaxPooling2D, ZeroPadding2D, GlobalAveragePooling2D, AveragePooling2D\n",
        "from tensorflow.keras.preprocessing.image import ImageDataGenerator\n",
        "from tensorflow.keras.callbacks import ModelCheckpoint, CSVLogger, EarlyStopping, ReduceLROnPlateau, LearningRateScheduler\n",
        "from tensorflow.keras.optimizers import SGD,Adam\n",
        "from tensorflow.keras.regularizers import l2\n",
        "from tensorflow import keras\n",
        "import numpy as np\n",
        "from sklearn.metrics import classification_report,confusion_matrix\n",
        "from PIL import ImageFile"
      ]
    },
    {
      "cell_type": "code",
      "execution_count": 22,
      "metadata": {
        "colab": {
          "base_uri": "https://localhost:8080/"
        },
        "id": "vNSxT-1yP4ME",
        "outputId": "ac1b181f-f425-4b13-efc3-f800faa62bae"
      },
      "outputs": [
        {
          "name": "stdout",
          "output_type": "stream",
          "text": [
            "Drive already mounted at /content/drive; to attempt to forcibly remount, call drive.mount(\"/content/drive\", force_remount=True).\n"
          ]
        }
      ],
      "source": [
        "from google.colab import drive\n",
        "drive.mount('/content/drive')"
      ]
    },
    {
      "cell_type": "code",
      "execution_count": 23,
      "metadata": {
        "id": "p7_m_3f34LOa"
      },
      "outputs": [],
      "source": [
        "# import zipfile, os\n",
        "\n",
        "# zip_path = \"/content/drive/MyDrive/FoodX-251.v4i.folder.zip\"\n",
        "# extract_path = \"/content/drive/MyDrive/datasets\"\n",
        "\n",
        "# os.makedirs(extract_path, exist_ok=True)\n",
        "\n",
        "# with zipfile.ZipFile(zip_path, 'r') as zip_ref:\n",
        "#     zip_ref.extractall(extract_path)\n",
        "\n",
        "# print(\"Ekstrak berhasil ke :\", extract_path)\n",
        "# print(\"Isi folder :\", os.listdir(extract_path))"
      ]
    },
    {
      "cell_type": "code",
      "execution_count": 24,
      "metadata": {
        "colab": {
          "base_uri": "https://localhost:8080/"
        },
        "id": "ide5Djv-TnRd",
        "outputId": "c365e661-21fb-4e59-dcae-ce8ea992312b"
      },
      "outputs": [
        {
          "name": "stdout",
          "output_type": "stream",
          "text": [
            "Found 1261 images belonging to 10 classes.\n",
            "Found 533 images belonging to 10 classes.\n"
          ]
        }
      ],
      "source": [
        "n_classes = 10\n",
        "img_width, img_height = 224, 224\n",
        "train_data_dir = '/content/drive/MyDrive/datasets/train_set'\n",
        "batch_size = 16\n",
        "\n",
        "datagen = ImageDataGenerator(\n",
        "    rescale=1. / 255,\n",
        "    shear_range=0.2,\n",
        "    zoom_range=0.2,\n",
        "    horizontal_flip=True,\n",
        "    validation_split=0.3\n",
        ")\n",
        "\n",
        "# Generator for training data\n",
        "train_generator = datagen.flow_from_directory(\n",
        "    train_data_dir,\n",
        "    target_size=(img_width, img_height),\n",
        "    batch_size=batch_size,\n",
        "    class_mode='categorical',\n",
        "    subset='training',\n",
        "    interpolation='nearest'\n",
        ")\n",
        "\n",
        "# Generator for validation data\n",
        "validation_generator = datagen.flow_from_directory(\n",
        "    train_data_dir,\n",
        "    target_size=(img_width, img_height),\n",
        "    batch_size=batch_size,\n",
        "    class_mode='categorical',\n",
        "    subset='validation',\n",
        "    interpolation='nearest'\n",
        ")\n",
        "\n",
        "# PIL untuk handle truncated images\n",
        "\n",
        "ImageFile.LOAD_TRUNCATED_IMAGES = True"
      ]
    },
    {
      "cell_type": "code",
      "execution_count": 25,
      "metadata": {
        "id": "twrhTGS1TrE2"
      },
      "outputs": [],
      "source": [
        "# train_generator = train_datagen.flow_from_directory(train_data_dir,\n",
        "#                                                     target_size=(img_width, img_width),\n",
        "#                                                     batch_size=batch_size,\n",
        "#                                                     shuffle=True,\n",
        "#                                                     class_mode='categorical',\n",
        "#                                                    subset='training')\n",
        "# test_generator= train_datagen.flow_from_directory(train_data_dir,\n",
        "#                                                  target_size=(img_width, img_width),\n",
        "#                                                  batch_size=batch_size,\n",
        "#                                                  shuffle=False,\n",
        "#                                                  class_mode='categorical',\n",
        "#                                                 subset='validation')\n",
        "# validation_generator = validation_datagen.flow_from_directory(validation_data_dir,\n",
        "#                                                               target_size=(img_width, img_width),\n",
        "#                                                               batch_size=batch_size,\n",
        "#                                                               shuffle=False,\n",
        "#                                                               class_mode='categorical'\n",
        "#                                                              )"
      ]
    },
    {
      "cell_type": "code",
      "execution_count": 26,
      "metadata": {
        "id": "wPy96gAtTwRU"
      },
      "outputs": [],
      "source": [
        "resnet = tf.keras.applications.DenseNet201(\n",
        "    weights='imagenet',\n",
        "    include_top=False,\n",
        "    input_shape=(img_width, img_height, 3)\n",
        ")"
      ]
    },
    {
      "cell_type": "code",
      "execution_count": 27,
      "metadata": {
        "id": "KNzolYRGTydg"
      },
      "outputs": [],
      "source": [
        "# from keras.callbacks import LearningRateScheduler\n",
        "# def learning_rate_scheduler(epoch, lr):\n",
        "#     initial_lr = 0.00005\n",
        "#     warmup_epochs = 10  # epochs for warm-up\n",
        "\n",
        "#     if epoch < warmup_epochs:\n",
        "#         return initial_lr * (epoch + 1) / warmup_epochs\n",
        "#     elif epoch == warmup_epochs:\n",
        "#         # Reducing learning rate\n",
        "#         return initial_lr / 10\n",
        "#     else:\n",
        "#         # After warmup\n",
        "#         return initial_lr / 10\n",
        "\n",
        "# # from keras.callbacks import LearningRateScheduler\n",
        "# # def learning_rate_scheduler(epoch, lr):\n",
        "# #     initial_lr=0.00005\n",
        "# #     warmup_epochs = 10 # epoch untuk warm-up\n",
        "# #     if epoch ==10:\n",
        "# #         lr = initial_lr /10\n",
        "\n",
        "# #         return lr\n",
        "# #     else:\n",
        "# #         return initial_lr\n",
        "\n",
        "\n",
        "# lr_scheduler = LearningRateScheduler(learning_rate_scheduler)"
      ]
    },
    {
      "cell_type": "code",
      "execution_count": 29,
      "metadata": {
        "id": "6vN0yqjcT2Uc"
      },
      "outputs": [],
      "source": [
        "x = resnet.output\n",
        "x = GlobalAveragePooling2D()(x)\n",
        "x = Dense(300, activation='relu')(x)\n",
        "x = Dropout(0.3)(x)\n",
        "output = Dense(\n",
        "    n_classes,\n",
        "    kernel_regularizer=regularizers.l2(0.001),\n",
        "    activation='softmax'\n",
        ")(x)\n",
        "\n",
        "model = Model(inputs=resnet.input, outputs=output)\n",
        "model.compile(\n",
        "    optimizer=Adam(learning_rate=0.00005),\n",
        "    loss='categorical_crossentropy',\n",
        "    metrics=['accuracy']\n",
        ")\n",
        "\n",
        "# model.fit(train_generator,\n",
        "#         steps_per_epoch = 83051 // batch_size,\n",
        "#         validation_data = validation_generator,\n",
        "#         validation_steps = 11994 // batch_size,\n",
        "#         epochs=20,\n",
        "#         verbose=1,\n",
        "#       callbacks=[ lr_scheduler,checkpointer]\n",
        "#          )"
      ]
    },
    {
      "cell_type": "code",
      "execution_count": 30,
      "metadata": {
        "colab": {
          "base_uri": "https://localhost:8080/"
        },
        "id": "Dkcih24VSNcu",
        "outputId": "bac264bd-9792-4bfe-c14d-dcd397476187"
      },
      "outputs": [
        {
          "name": "stderr",
          "output_type": "stream",
          "text": [
            "/usr/local/lib/python3.12/dist-packages/keras/src/trainers/data_adapters/py_dataset_adapter.py:121: UserWarning: Your `PyDataset` class should call `super().__init__(**kwargs)` in its constructor. `**kwargs` can include `workers`, `use_multiprocessing`, `max_queue_size`. Do not pass these arguments to `fit()`, as they will be ignored.\n",
            "  self._warn_if_super_not_called()\n"
          ]
        },
        {
          "name": "stdout",
          "output_type": "stream",
          "text": [
            "Epoch 1/20\n"
          ]
        },
        {
          "name": "stderr",
          "output_type": "stream",
          "text": [
            "/usr/local/lib/python3.12/dist-packages/PIL/Image.py:1047: UserWarning: Palette images with Transparency expressed in bytes should be converted to RGBA images\n",
            "  warnings.warn(\n"
          ]
        },
        {
          "name": "stdout",
          "output_type": "stream",
          "text": [
            "\u001b[1m79/79\u001b[0m \u001b[32m━━━━━━━━━━━━━━━━━━━━\u001b[0m\u001b[37m\u001b[0m \u001b[1m0s\u001b[0m 10s/step - accuracy: 0.1083 - loss: 2.5534\n",
            "Epoch 1: val_accuracy improved from -inf to 0.20826, saving model to ./resnet_best_model10.keras\n",
            "\u001b[1m79/79\u001b[0m \u001b[32m━━━━━━━━━━━━━━━━━━━━\u001b[0m\u001b[37m\u001b[0m \u001b[1m1050s\u001b[0m 12s/step - accuracy: 0.1088 - loss: 2.5516 - val_accuracy: 0.2083 - val_loss: 2.1731 - learning_rate: 5.0000e-06\n",
            "Epoch 2/20\n",
            "\u001b[1m79/79\u001b[0m \u001b[32m━━━━━━━━━━━━━━━━━━━━\u001b[0m\u001b[37m\u001b[0m \u001b[1m0s\u001b[0m 9s/step - accuracy: 0.3301 - loss: 1.9942 \n",
            "Epoch 2: val_accuracy improved from 0.20826 to 0.60225, saving model to ./resnet_best_model10.keras\n",
            "\u001b[1m79/79\u001b[0m \u001b[32m━━━━━━━━━━━━━━━━━━━━\u001b[0m\u001b[37m\u001b[0m \u001b[1m837s\u001b[0m 11s/step - accuracy: 0.3315 - loss: 1.9917 - val_accuracy: 0.6023 - val_loss: 1.5082 - learning_rate: 1.0000e-05\n",
            "Epoch 3/20\n",
            "\u001b[1m79/79\u001b[0m \u001b[32m━━━━━━━━━━━━━━━━━━━━\u001b[0m\u001b[37m\u001b[0m \u001b[1m0s\u001b[0m 10s/step - accuracy: 0.6598 - loss: 1.2640\n",
            "Epoch 3: val_accuracy improved from 0.60225 to 0.81426, saving model to ./resnet_best_model10.keras\n",
            "\u001b[1m79/79\u001b[0m \u001b[32m━━━━━━━━━━━━━━━━━━━━\u001b[0m\u001b[37m\u001b[0m \u001b[1m830s\u001b[0m 11s/step - accuracy: 0.6604 - loss: 1.2624 - val_accuracy: 0.8143 - val_loss: 0.9033 - learning_rate: 1.5000e-05\n",
            "Epoch 4/20\n",
            "\u001b[1m79/79\u001b[0m \u001b[32m━━━━━━━━━━━━━━━━━━━━\u001b[0m\u001b[37m\u001b[0m \u001b[1m0s\u001b[0m 10s/step - accuracy: 0.7959 - loss: 0.7917\n",
            "Epoch 4: val_accuracy improved from 0.81426 to 0.85366, saving model to ./resnet_best_model10.keras\n",
            "\u001b[1m79/79\u001b[0m \u001b[32m━━━━━━━━━━━━━━━━━━━━\u001b[0m\u001b[37m\u001b[0m \u001b[1m833s\u001b[0m 11s/step - accuracy: 0.7964 - loss: 0.7904 - val_accuracy: 0.8537 - val_loss: 0.5761 - learning_rate: 2.0000e-05\n",
            "Epoch 5/20\n",
            "\u001b[1m79/79\u001b[0m \u001b[32m━━━━━━━━━━━━━━━━━━━━\u001b[0m\u001b[37m\u001b[0m \u001b[1m0s\u001b[0m 9s/step - accuracy: 0.9095 - loss: 0.4521\n",
            "Epoch 5: val_accuracy improved from 0.85366 to 0.89681, saving model to ./resnet_best_model10.keras\n",
            "\u001b[1m79/79\u001b[0m \u001b[32m━━━━━━━━━━━━━━━━━━━━\u001b[0m\u001b[37m\u001b[0m \u001b[1m828s\u001b[0m 10s/step - accuracy: 0.9095 - loss: 0.4517 - val_accuracy: 0.8968 - val_loss: 0.4277 - learning_rate: 2.5000e-05\n",
            "Epoch 6/20\n",
            "\u001b[1m79/79\u001b[0m \u001b[32m━━━━━━━━━━━━━━━━━━━━\u001b[0m\u001b[37m\u001b[0m \u001b[1m0s\u001b[0m 9s/step - accuracy: 0.9413 - loss: 0.2862\n",
            "Epoch 6: val_accuracy improved from 0.89681 to 0.90619, saving model to ./resnet_best_model10.keras\n",
            "\u001b[1m79/79\u001b[0m \u001b[32m━━━━━━━━━━━━━━━━━━━━\u001b[0m\u001b[37m\u001b[0m \u001b[1m828s\u001b[0m 10s/step - accuracy: 0.9413 - loss: 0.2861 - val_accuracy: 0.9062 - val_loss: 0.3602 - learning_rate: 3.0000e-05\n",
            "Epoch 7/20\n",
            "\u001b[1m79/79\u001b[0m \u001b[32m━━━━━━━━━━━━━━━━━━━━\u001b[0m\u001b[37m\u001b[0m \u001b[1m0s\u001b[0m 10s/step - accuracy: 0.9805 - loss: 0.1806\n",
            "Epoch 7: val_accuracy improved from 0.90619 to 0.92308, saving model to ./resnet_best_model10.keras\n",
            "\u001b[1m79/79\u001b[0m \u001b[32m━━━━━━━━━━━━━━━━━━━━\u001b[0m\u001b[37m\u001b[0m \u001b[1m859s\u001b[0m 11s/step - accuracy: 0.9804 - loss: 0.1807 - val_accuracy: 0.9231 - val_loss: 0.3033 - learning_rate: 3.5000e-05\n",
            "Epoch 8/20\n",
            "\u001b[1m79/79\u001b[0m \u001b[32m━━━━━━━━━━━━━━━━━━━━\u001b[0m\u001b[37m\u001b[0m \u001b[1m0s\u001b[0m 10s/step - accuracy: 0.9718 - loss: 0.1448\n",
            "Epoch 8: val_accuracy improved from 0.92308 to 0.93433, saving model to ./resnet_best_model10.keras\n",
            "\u001b[1m79/79\u001b[0m \u001b[32m━━━━━━━━━━━━━━━━━━━━\u001b[0m\u001b[37m\u001b[0m \u001b[1m842s\u001b[0m 11s/step - accuracy: 0.9719 - loss: 0.1448 - val_accuracy: 0.9343 - val_loss: 0.2701 - learning_rate: 4.0000e-05\n",
            "Epoch 9/20\n",
            "\u001b[1m79/79\u001b[0m \u001b[32m━━━━━━━━━━━━━━━━━━━━\u001b[0m\u001b[37m\u001b[0m \u001b[1m0s\u001b[0m 10s/step - accuracy: 0.9847 - loss: 0.0988\n",
            "Epoch 9: val_accuracy did not improve from 0.93433\n",
            "\u001b[1m79/79\u001b[0m \u001b[32m━━━━━━━━━━━━━━━━━━━━\u001b[0m\u001b[37m\u001b[0m \u001b[1m845s\u001b[0m 11s/step - accuracy: 0.9847 - loss: 0.0988 - val_accuracy: 0.9212 - val_loss: 0.2634 - learning_rate: 4.5000e-05\n",
            "Epoch 10/20\n",
            "\u001b[1m79/79\u001b[0m \u001b[32m━━━━━━━━━━━━━━━━━━━━\u001b[0m\u001b[37m\u001b[0m \u001b[1m0s\u001b[0m 10s/step - accuracy: 0.9950 - loss: 0.0712\n",
            "Epoch 10: val_accuracy did not improve from 0.93433\n",
            "\u001b[1m79/79\u001b[0m \u001b[32m━━━━━━━━━━━━━━━━━━━━\u001b[0m\u001b[37m\u001b[0m \u001b[1m852s\u001b[0m 11s/step - accuracy: 0.9950 - loss: 0.0712 - val_accuracy: 0.9325 - val_loss: 0.2498 - learning_rate: 5.0000e-05\n",
            "Epoch 11/20\n",
            "\u001b[1m79/79\u001b[0m \u001b[32m━━━━━━━━━━━━━━━━━━━━\u001b[0m\u001b[37m\u001b[0m \u001b[1m0s\u001b[0m 10s/step - accuracy: 0.9858 - loss: 0.0811\n",
            "Epoch 11: val_accuracy improved from 0.93433 to 0.94184, saving model to ./resnet_best_model10.keras\n",
            "\u001b[1m79/79\u001b[0m \u001b[32m━━━━━━━━━━━━━━━━━━━━\u001b[0m\u001b[37m\u001b[0m \u001b[1m865s\u001b[0m 11s/step - accuracy: 0.9858 - loss: 0.0810 - val_accuracy: 0.9418 - val_loss: 0.2441 - learning_rate: 5.0000e-06\n",
            "Epoch 12/20\n",
            "\u001b[1m79/79\u001b[0m \u001b[32m━━━━━━━━━━━━━━━━━━━━\u001b[0m\u001b[37m\u001b[0m \u001b[1m0s\u001b[0m 10s/step - accuracy: 0.9961 - loss: 0.0529\n",
            "Epoch 12: val_accuracy did not improve from 0.94184\n",
            "\u001b[1m79/79\u001b[0m \u001b[32m━━━━━━━━━━━━━━━━━━━━\u001b[0m\u001b[37m\u001b[0m \u001b[1m851s\u001b[0m 11s/step - accuracy: 0.9961 - loss: 0.0529 - val_accuracy: 0.9325 - val_loss: 0.2495 - learning_rate: 5.0000e-06\n",
            "Epoch 13/20\n",
            "\u001b[1m79/79\u001b[0m \u001b[32m━━━━━━━━━━━━━━━━━━━━\u001b[0m\u001b[37m\u001b[0m \u001b[1m0s\u001b[0m 10s/step - accuracy: 0.9899 - loss: 0.0622\n",
            "Epoch 13: val_accuracy did not improve from 0.94184\n",
            "\u001b[1m79/79\u001b[0m \u001b[32m━━━━━━━━━━━━━━━━━━━━\u001b[0m\u001b[37m\u001b[0m \u001b[1m849s\u001b[0m 11s/step - accuracy: 0.9899 - loss: 0.0622 - val_accuracy: 0.9362 - val_loss: 0.2421 - learning_rate: 5.0000e-06\n",
            "Epoch 14/20\n",
            "\u001b[1m79/79\u001b[0m \u001b[32m━━━━━━━━━━━━━━━━━━━━\u001b[0m\u001b[37m\u001b[0m \u001b[1m0s\u001b[0m 10s/step - accuracy: 0.9954 - loss: 0.0600\n",
            "Epoch 14: val_accuracy did not improve from 0.94184\n",
            "\u001b[1m79/79\u001b[0m \u001b[32m━━━━━━━━━━━━━━━━━━━━\u001b[0m\u001b[37m\u001b[0m \u001b[1m851s\u001b[0m 11s/step - accuracy: 0.9954 - loss: 0.0599 - val_accuracy: 0.9287 - val_loss: 0.2539 - learning_rate: 5.0000e-06\n",
            "Epoch 15/20\n",
            "\u001b[1m79/79\u001b[0m \u001b[32m━━━━━━━━━━━━━━━━━━━━\u001b[0m\u001b[37m\u001b[0m \u001b[1m0s\u001b[0m 10s/step - accuracy: 0.9936 - loss: 0.0583\n",
            "Epoch 15: val_accuracy did not improve from 0.94184\n",
            "\u001b[1m79/79\u001b[0m \u001b[32m━━━━━━━━━━━━━━━━━━━━\u001b[0m\u001b[37m\u001b[0m \u001b[1m856s\u001b[0m 11s/step - accuracy: 0.9935 - loss: 0.0584 - val_accuracy: 0.9212 - val_loss: 0.2533 - learning_rate: 5.0000e-06\n",
            "Epoch 16/20\n",
            "\u001b[1m79/79\u001b[0m \u001b[32m━━━━━━━━━━━━━━━━━━━━\u001b[0m\u001b[37m\u001b[0m \u001b[1m0s\u001b[0m 10s/step - accuracy: 0.9918 - loss: 0.0635\n",
            "Epoch 16: val_accuracy did not improve from 0.94184\n",
            "\n",
            "Epoch 16: ReduceLROnPlateau reducing learning rate to 9.999999747378752e-07.\n",
            "\u001b[1m79/79\u001b[0m \u001b[32m━━━━━━━━━━━━━━━━━━━━\u001b[0m\u001b[37m\u001b[0m \u001b[1m856s\u001b[0m 11s/step - accuracy: 0.9918 - loss: 0.0635 - val_accuracy: 0.9268 - val_loss: 0.2613 - learning_rate: 5.0000e-06\n",
            "Epoch 17/20\n",
            "\u001b[1m79/79\u001b[0m \u001b[32m━━━━━━━━━━━━━━━━━━━━\u001b[0m\u001b[37m\u001b[0m \u001b[1m0s\u001b[0m 10s/step - accuracy: 0.9937 - loss: 0.0557\n",
            "Epoch 17: val_accuracy did not improve from 0.94184\n",
            "\u001b[1m79/79\u001b[0m \u001b[32m━━━━━━━━━━━━━━━━━━━━\u001b[0m\u001b[37m\u001b[0m \u001b[1m857s\u001b[0m 11s/step - accuracy: 0.9937 - loss: 0.0558 - val_accuracy: 0.9400 - val_loss: 0.2340 - learning_rate: 5.0000e-06\n",
            "Epoch 18/20\n",
            "\u001b[1m79/79\u001b[0m \u001b[32m━━━━━━━━━━━━━━━━━━━━\u001b[0m\u001b[37m\u001b[0m \u001b[1m0s\u001b[0m 10s/step - accuracy: 0.9963 - loss: 0.0520\n",
            "Epoch 18: val_accuracy did not improve from 0.94184\n",
            "\u001b[1m79/79\u001b[0m \u001b[32m━━━━━━━━━━━━━━━━━━━━\u001b[0m\u001b[37m\u001b[0m \u001b[1m835s\u001b[0m 11s/step - accuracy: 0.9963 - loss: 0.0520 - val_accuracy: 0.9362 - val_loss: 0.2317 - learning_rate: 5.0000e-06\n",
            "Epoch 19/20\n",
            "\u001b[1m79/79\u001b[0m \u001b[32m━━━━━━━━━━━━━━━━━━━━\u001b[0m\u001b[37m\u001b[0m \u001b[1m0s\u001b[0m 10s/step - accuracy: 0.9974 - loss: 0.0460\n",
            "Epoch 19: val_accuracy did not improve from 0.94184\n",
            "\u001b[1m79/79\u001b[0m \u001b[32m━━━━━━━━━━━━━━━━━━━━\u001b[0m\u001b[37m\u001b[0m \u001b[1m842s\u001b[0m 11s/step - accuracy: 0.9973 - loss: 0.0460 - val_accuracy: 0.9325 - val_loss: 0.2497 - learning_rate: 5.0000e-06\n",
            "Epoch 20/20\n",
            "\u001b[1m79/79\u001b[0m \u001b[32m━━━━━━━━━━━━━━━━━━━━\u001b[0m\u001b[37m\u001b[0m \u001b[1m0s\u001b[0m 10s/step - accuracy: 0.9992 - loss: 0.0399\n",
            "Epoch 20: val_accuracy did not improve from 0.94184\n",
            "\u001b[1m79/79\u001b[0m \u001b[32m━━━━━━━━━━━━━━━━━━━━\u001b[0m\u001b[37m\u001b[0m \u001b[1m839s\u001b[0m 11s/step - accuracy: 0.9992 - loss: 0.0399 - val_accuracy: 0.9306 - val_loss: 0.2342 - learning_rate: 5.0000e-06\n",
            "Restoring model weights from the end of the best epoch: 18.\n"
          ]
        }
      ],
      "source": [
        "def learning_rate_scheduler(epoch, lr):\n",
        "    initial_lr = 0.00005\n",
        "    warmup_epochs = 10\n",
        "    if epoch < warmup_epochs:\n",
        "        return initial_lr * (epoch + 1) / warmup_epochs\n",
        "    elif epoch == warmup_epochs:\n",
        "        return initial_lr / 10\n",
        "    else:\n",
        "        return initial_lr / 10\n",
        "\n",
        "lr_scheduler = LearningRateScheduler(learning_rate_scheduler)\n",
        "\n",
        "checkpointer = ModelCheckpoint(\n",
        "    filepath='./resnet_best_model10.keras',\n",
        "    verbose=1,\n",
        "    save_best_only=True,\n",
        "    monitor=\"val_accuracy\",\n",
        "    mode=\"max\"\n",
        ")\n",
        "\n",
        "early_stop = EarlyStopping(\n",
        "    monitor=\"val_loss\",\n",
        "    patience=5,\n",
        "    restore_best_weights=True,\n",
        "    verbose=1\n",
        ")\n",
        "\n",
        "reduce_lr = ReduceLROnPlateau(\n",
        "    monitor=\"val_loss\",\n",
        "    factor=0.2,\n",
        "    patience=3,\n",
        "    verbose=1,\n",
        "    min_lr=1e-7\n",
        ")\n",
        "\n",
        "history = model.fit(\n",
        "    train_generator,\n",
        "    validation_data=validation_generator,\n",
        "    epochs=20,\n",
        "    verbose=1,\n",
        "    callbacks=[lr_scheduler, checkpointer, early_stop, reduce_lr]\n",
        ")"
      ]
    },
    {
      "cell_type": "code",
      "execution_count": 31,
      "metadata": {
        "colab": {
          "base_uri": "https://localhost:8080/",
          "height": 957
        },
        "id": "7fYrjEOXTBO8",
        "outputId": "2047c91d-757b-4ea2-b78a-d1aad25648ef"
      },
      "outputs": [
        {
          "data": {
            "image/png": "[encoded data removed]",
            "text/plain": [
              "<Figure size 1000x500 with 1 Axes>"
            ]
          },
          "metadata": {},
          "output_type": "display_data"
        },
        {
          "data": {
            "image/png": "[encoded data removed]",
            "text/plain": [
              "<Figure size 1000x500 with 1 Axes>"
            ]
          },
          "metadata": {},
          "output_type": "display_data"
        }
      ],
      "source": [
        "import matplotlib.pyplot as plt\n",
        "\n",
        "# Plot Accuracy\n",
        "plt.figure(figsize=(10,5))\n",
        "plt.plot(history.history['accuracy'], label='Train Accuracy')\n",
        "plt.plot(history.history['val_accuracy'], label='Val Accuracy')\n",
        "plt.title('Model Accuracy per Epoch')\n",
        "plt.xlabel('Epoch')\n",
        "plt.ylabel('Accuracy')\n",
        "plt.legend()\n",
        "plt.grid(True)\n",
        "plt.show()\n",
        "\n",
        "# Plot Loss\n",
        "plt.figure(figsize=(10,5))\n",
        "plt.plot(history.history['loss'], label='Train Loss')\n",
        "plt.plot(history.history['val_loss'], label='Val Loss')\n",
        "plt.title('Model Loss per Epoch')\n",
        "plt.xlabel('Epoch')\n",
        "plt.ylabel('Loss')\n",
        "plt.legend()\n",
        "plt.grid(True)\n",
        "plt.show()"
      ]
    },
    {
      "cell_type": "code",
      "execution_count": 35,
      "metadata": {
        "colab": {
          "base_uri": "https://localhost:8080/"
        },
        "id": "m2UsfK2piWUU",
        "outputId": "7e3b9d29-9b33-4652-b470-5c0e84df2465"
      },
      "outputs": [
        {
          "name": "stdout",
          "output_type": "stream",
          "text": [
            "Collecting streamlit\n",
            "  Downloading streamlit-1.49.1-py3-none-any.whl.metadata (9.5 kB)\n",
            "Requirement already satisfied: altair!=5.4.0,!=5.4.1,<6,>=4.0 in /usr/local/lib/python3.12/dist-packages (from streamlit) (5.5.0)\n",
            "Requirement already satisfied: blinker<2,>=1.5.0 in /usr/local/lib/python3.12/dist-packages (from streamlit) (1.9.0)\n",
            "Requirement already satisfied: cachetools<7,>=4.0 in /usr/local/lib/python3.12/dist-packages (from streamlit) (5.5.2)\n",
            "Requirement already satisfied: click<9,>=7.0 in /usr/local/lib/python3.12/dist-packages (from streamlit) (8.2.1)\n",
            "Requirement already satisfied: numpy<3,>=1.23 in /usr/local/lib/python3.12/dist-packages (from streamlit) (2.0.2)\n",
            "Requirement already satisfied: packaging<26,>=20 in /usr/local/lib/python3.12/dist-packages (from streamlit) (25.0)\n",
            "Requirement already satisfied: pandas<3,>=1.4.0 in /usr/local/lib/python3.12/dist-packages (from streamlit) (2.2.2)\n",
            "Requirement already satisfied: pillow<12,>=7.1.0 in /usr/local/lib/python3.12/dist-packages (from streamlit) (11.3.0)\n",
            "Requirement already satisfied: protobuf<7,>=3.20 in /usr/local/lib/python3.12/dist-packages (from streamlit) (5.29.5)\n",
            "Requirement already satisfied: pyarrow>=7.0 in /usr/local/lib/python3.12/dist-packages (from streamlit) (18.1.0)\n",
            "Requirement already satisfied: requests<3,>=2.27 in /usr/local/lib/python3.12/dist-packages (from streamlit) (2.32.4)\n",
            "Requirement already satisfied: tenacity<10,>=8.1.0 in /usr/local/lib/python3.12/dist-packages (from streamlit) (8.5.0)\n",
            "Requirement already satisfied: toml<2,>=0.10.1 in /usr/local/lib/python3.12/dist-packages (from streamlit) (0.10.2)\n",
            "Requirement already satisfied: typing-extensions<5,>=4.4.0 in /usr/local/lib/python3.12/dist-packages (from streamlit) (4.15.0)\n",
            "Requirement already satisfied: watchdog<7,>=2.1.5 in /usr/local/lib/python3.12/dist-packages (from streamlit) (6.0.0)\n",
            "Requirement already satisfied: gitpython!=3.1.19,<4,>=3.0.7 in /usr/local/lib/python3.12/dist-packages (from streamlit) (3.1.45)\n",
            "Collecting pydeck<1,>=0.8.0b4 (from streamlit)\n",
            "  Downloading pydeck-0.9.1-py2.py3-none-any.whl.metadata (4.1 kB)\n",
            "Requirement already satisfied: tornado!=6.5.0,<7,>=6.0.3 in /usr/local/lib/python3.12/dist-packages (from streamlit) (6.4.2)\n",
            "Requirement already satisfied: jinja2 in /usr/local/lib/python3.12/dist-packages (from altair!=5.4.0,!=5.4.1,<6,>=4.0->streamlit) (3.1.6)\n",
            "Requirement already satisfied: jsonschema>=3.0 in /usr/local/lib/python3.12/dist-packages (from altair!=5.4.0,!=5.4.1,<6,>=4.0->streamlit) (4.25.1)\n",
            "Requirement already satisfied: narwhals>=1.14.2 in /usr/local/lib/python3.12/dist-packages (from altair!=5.4.0,!=5.4.1,<6,>=4.0->streamlit) (2.2.0)\n",
            "Requirement already satisfied: gitdb<5,>=4.0.1 in /usr/local/lib/python3.12/dist-packages (from gitpython!=3.1.19,<4,>=3.0.7->streamlit) (4.0.12)\n",
            "Requirement already satisfied: python-dateutil>=2.8.2 in /usr/local/lib/python3.12/dist-packages (from pandas<3,>=1.4.0->streamlit) (2.9.0.post0)\n",
            "Requirement already satisfied: pytz>=2020.1 in /usr/local/lib/python3.12/dist-packages (from pandas<3,>=1.4.0->streamlit) (2025.2)\n",
            "Requirement already satisfied: tzdata>=2022.7 in /usr/local/lib/python3.12/dist-packages (from pandas<3,>=1.4.0->streamlit) (2025.2)\n",
            "Requirement already satisfied: charset_normalizer<4,>=2 in /usr/local/lib/python3.12/dist-packages (from requests<3,>=2.27->streamlit) (3.4.3)\n",
            "Requirement already satisfied: idna<4,>=2.5 in /usr/local/lib/python3.12/dist-packages (from requests<3,>=2.27->streamlit) (3.10)\n",
            "Requirement already satisfied: urllib3<3,>=1.21.1 in /usr/local/lib/python3.12/dist-packages (from requests<3,>=2.27->streamlit) (2.5.0)\n",
            "Requirement already satisfied: certifi>=2017.4.17 in /usr/local/lib/python3.12/dist-packages (from requests<3,>=2.27->streamlit) (2025.8.3)\n",
            "Requirement already satisfied: smmap<6,>=3.0.1 in /usr/local/lib/python3.12/dist-packages (from gitdb<5,>=4.0.1->gitpython!=3.1.19,<4,>=3.0.7->streamlit) (5.0.2)\n",
            "Requirement already satisfied: MarkupSafe>=2.0 in /usr/local/lib/python3.12/dist-packages (from jinja2->altair!=5.4.0,!=5.4.1,<6,>=4.0->streamlit) (3.0.2)\n",
            "Requirement already satisfied: attrs>=22.2.0 in /usr/local/lib/python3.12/dist-packages (from jsonschema>=3.0->altair!=5.4.0,!=5.4.1,<6,>=4.0->streamlit) (25.3.0)\n",
            "Requirement already satisfied: jsonschema-specifications>=2023.03.6 in /usr/local/lib/python3.12/dist-packages (from jsonschema>=3.0->altair!=5.4.0,!=5.4.1,<6,>=4.0->streamlit) (2025.4.1)\n",
            "Requirement already satisfied: referencing>=0.28.4 in /usr/local/lib/python3.12/dist-packages (from jsonschema>=3.0->altair!=5.4.0,!=5.4.1,<6,>=4.0->streamlit) (0.36.2)\n",
            "Requirement already satisfied: rpds-py>=0.7.1 in /usr/local/lib/python3.12/dist-packages (from jsonschema>=3.0->altair!=5.4.0,!=5.4.1,<6,>=4.0->streamlit) (0.27.0)\n",
            "Requirement already satisfied: six>=1.5 in /usr/local/lib/python3.12/dist-packages (from python-dateutil>=2.8.2->pandas<3,>=1.4.0->streamlit) (1.17.0)\n",
            "Downloading streamlit-1.49.1-py3-none-any.whl (10.0 MB)\n",
            "\u001b[2K   \u001b[90m━━━━━━━━━━━━━━━━━━━━━━━━━━━━━━━━━━━━━━━━\u001b[0m \u001b[32m10.0/10.0 MB\u001b[0m \u001b[31m31.5 MB/s\u001b[0m eta \u001b[36m0:00:00\u001b[0m\n",
            "\u001b[?25hDownloading pydeck-0.9.1-py2.py3-none-any.whl (6.9 MB)\n",
            "\u001b[2K   \u001b[90m━━━━━━━━━━━━━━━━━━━━━━━━━━━━━━━━━━━━━━━━\u001b[0m \u001b[32m6.9/6.9 MB\u001b[0m \u001b[31m87.0 MB/s\u001b[0m eta \u001b[36m0:00:00\u001b[0m\n",
            "\u001b[?25hInstalling collected packages: pydeck, streamlit\n",
            "Successfully installed pydeck-0.9.1 streamlit-1.49.1\n"
          ]
        }
      ],
      "source": [
        "!pip install streamlit"
      ]
    },
    {
      "cell_type": "code",
      "execution_count": null,
      "metadata": {
        "colab": {
          "base_uri": "https://localhost:8080/"
        },
        "id": "WIl26xuvT4U1",
        "outputId": "3f90ee5a-58a9-49c9-903a-1cee5a435d8c"
      },
      "outputs": [
        {
          "name": "stderr",
          "output_type": "stream",
          "text": [
            "2025-09-04 16:22:22.369 WARNING streamlit.runtime.scriptrunner_utils.script_run_context: Thread 'MainThread': missing ScriptRunContext! This warning can be ignored when running in bare mode.\n",
            "2025-09-04 16:22:22.838 \n",
            "  \u001b[33m\u001b[1mWarning:\u001b[0m to view this Streamlit app on a browser, run it with the following\n",
            "  command:\n",
            "\n",
            "    streamlit run /usr/local/lib/python3.12/dist-packages/colab_kernel_launcher.py [ARGUMENTS]\n",
            "2025-09-04 16:22:22.839 Thread 'MainThread': missing ScriptRunContext! This warning can be ignored when running in bare mode.\n",
            "2025-09-04 16:22:22.840 Thread 'MainThread': missing ScriptRunContext! This warning can be ignored when running in bare mode.\n",
            "2025-09-04 16:22:22.841 Thread 'MainThread': missing ScriptRunContext! This warning can be ignored when running in bare mode.\n",
            "2025-09-04 16:22:22.842 Thread 'MainThread': missing ScriptRunContext! This warning can be ignored when running in bare mode.\n",
            "2025-09-04 16:22:22.842 Thread 'MainThread': missing ScriptRunContext! This warning can be ignored when running in bare mode.\n",
            "2025-09-04 16:22:22.843 Thread 'MainThread': missing ScriptRunContext! This warning can be ignored when running in bare mode.\n",
            "2025-09-04 16:22:22.844 Thread 'MainThread': missing ScriptRunContext! This warning can be ignored when running in bare mode.\n",
            "2025-09-04 16:22:22.845 Thread 'MainThread': missing ScriptRunContext! This warning can be ignored when running in bare mode.\n",
            "2025-09-04 16:22:22.846 Thread 'MainThread': missing ScriptRunContext! This warning can be ignored when running in bare mode.\n",
            "2025-09-04 16:22:22.848 Thread 'MainThread': missing ScriptRunContext! This warning can be ignored when running in bare mode.\n",
            "2025-09-04 16:22:22.848 Thread 'MainThread': missing ScriptRunContext! This warning can be ignored when running in bare mode.\n",
            "2025-09-04 16:22:22.849 Thread 'MainThread': missing ScriptRunContext! This warning can be ignored when running in bare mode.\n",
            "2025-09-04 16:22:22.850 Thread 'MainThread': missing ScriptRunContext! This warning can be ignored when running in bare mode.\n",
            "2025-09-04 16:22:22.851 Thread 'MainThread': missing ScriptRunContext! This warning can be ignored when running in bare mode.\n"
          ]
        }
      ],
      "source": [
        "# # y_true = test_generator.classes\n",
        "\n",
        "# # prediction = model.predict(test_generator)\n",
        "# # y_pred = np.argmax(prediction, axis=1)\n",
        "\n",
        "# import streamlit as st\n",
        "# from tensorflow.keras.preprocessing import image\n",
        "# from PIL import Image\n",
        "\n",
        "# # Load model\n",
        "# model_food = tf.keras.models.load_model(\"resnet_best_model10.keras\")\n",
        "\n",
        "# food_classes = [\"apel\", \"apem\", \"bakpia\", \"jeruk\", \"kue pastel\", \"lemper\", \"onde-onde\", \"putu ayu\", \"risol\", \"roti\"]\n",
        "\n",
        "# st.title(\"Food Category Detection\")\n",
        "\n",
        "# # Upload image\n",
        "# img_file = st.file_uploader(\"Upload Foto\", type=[\"jpg\", \"png\", \"jpeg\"])\n",
        "# camera_file = st.camera_input(\"Atau gunakan Kamera\")\n",
        "\n",
        "# if img_file or camera_file:\n",
        "#     img = Image.open(img_file or camera_file).convert(\"RGB\")\n",
        "#     st.image(img, caption=\"Gambar Input\", use_column_width=True)\n",
        "\n",
        "#     # Preprocess\n",
        "#     img_resized = img.resize((224,224))\n",
        "#     x = np.expand_dims(np.array(img_resized)/255.0, axis=0)\n",
        "\n",
        "#     # Predict\n",
        "#     food_pred = np.argmax(model_food.predict(x), axis=1)[0]\n",
        "\n",
        "#     st.subheader(\"Hasil Prediksi\")\n",
        "#     st.write(\"Food Category:\", food_classes[food_pred])"
      ]
    },
    {
      "cell_type": "code",
      "execution_count": 38,
      "metadata": {
        "id": "jBX7YzT2T7nd"
      },
      "outputs": [],
      "source": [
        "# label_map = {}\n",
        "# with open('/kaggle/input/ifood-2019-fgvc6/class_list.txt', 'r') as f:\n",
        "#     for line in f:\n",
        "#         numerical_label, actual_label = line.strip().split()\n",
        "#         label_map[int(numerical_label)] = actual_label\n",
        "\n",
        "# # Convert numerical labels to actual labels\n",
        "# y_true = [label_map[label] for label in y_true]\n",
        "# y_pred = [label_map[label] for label in y_pred]\n",
        "\n",
        "# # Generate the classification report\n",
        "# report = classification_report(y_true, y_pred,zero_division=1)\n",
        "\n",
        "\n",
        "\n",
        "# print(report)"
      ]
    },
    {
      "cell_type": "code",
      "execution_count": null,
      "metadata": {
        "id": "F1yACxvYT9l9"
      },
      "outputs": [],
      "source": []
    }
  ],
  "metadata": {
    "colab": {
      "provenance": []
    },
    "kernelspec": {
      "display_name": "Python 3",
      "name": "python3"
    },
    "language_info": {
      "name": "python"
    }
  },
  "nbformat": 4,
  "nbformat_minor": 0
}
